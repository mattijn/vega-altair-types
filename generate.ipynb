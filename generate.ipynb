{
 "cells": [
  {
   "cell_type": "code",
   "execution_count": 2,
   "metadata": {},
   "outputs": [],
   "source": [
    "from pathlib import Path\n",
    "from typing import Any\n",
    "import json\n",
    "import itertools as it\n",
    "\n",
    "import altair as alt\n",
    "from tools.schemapi.utils import SchemaInfo\n",
    "\n",
    "\n",
    "def load_schema(fp: Path, /) -> dict[str, Any]:\n",
    "    \"\"\"Reads and returns the root schema from ``fp``.\"\"\"\n",
    "    with fp.open(encoding=\"utf8\") as f:\n",
    "        root_schema = json.load(f)\n",
    "    return root_schema\n",
    "\n",
    "def get_children(schema_info: SchemaInfo) -> set[str]:\n",
    "    children: set[str] = set()\n",
    "\n",
    "    for prop_info in it.chain(\n",
    "        schema_info.properties.values(),\n",
    "        schema_info.anyOf,\n",
    "        [schema_info.child(schema_info.items)] if schema_info.items else [],\n",
    "    ):\n",
    "        if prop_info.refname and prop_info.is_reference():\n",
    "            children.add(prop_info.refname)\n",
    "        else:\n",
    "            children.update(get_children(prop_info))\n",
    "\n",
    "    return children"
   ]
  },
  {
   "cell_type": "code",
   "execution_count": 5,
   "metadata": {},
   "outputs": [],
   "source": [
    "rootschema = load_schema(Path(\"../vega/altair/altair/vegalite/v5/schema/vega-lite-schema.json\"))"
   ]
  },
  {
   "cell_type": "code",
   "execution_count": 6,
   "metadata": {},
   "outputs": [],
   "source": [
    "definitions: dict[str, SchemaInfo] = {}\n",
    "for name in rootschema[\"definitions\"]:\n",
    "    schema = SchemaInfo({\"$ref\": \"#/definitions/\" + name}, rootschema=rootschema)\n",
    "    definitions[name] = schema"
   ]
  },
  {
   "cell_type": "code",
   "execution_count": 7,
   "metadata": {},
   "outputs": [],
   "source": [
    "# Key is the name of a definition and the value is a unique list of names of definitions\n",
    "# that are children of the key definition.\n",
    "graph: dict[str, list[str]] = {}\n",
    "for name, schema in definitions.items():\n",
    "    graph[name] = list(get_children(schema))"
   ]
  },
  {
   "cell_type": "code",
   "execution_count": 13,
   "metadata": {},
   "outputs": [],
   "source": [
    "with Path(f\"docs/graphtypes_v{(alt.VEGALITE_VERSION).replace('.','_')}.json\").open(\"w\") as f:\n",
    "    json.dump(graph, f, indent=2)"
   ]
  },
  {
   "cell_type": "code",
   "execution_count": 14,
   "metadata": {},
   "outputs": [],
   "source": [
    "from pyvis.network import Network\n",
    "\n",
    "net = Network(select_menu=True, filter_menu=True, directed=True)\n",
    "nodes_to_exclude = set()\n",
    "\n",
    "for node in graph:\n",
    "    if node not in nodes_to_exclude:\n",
    "        net.add_node(node, label=node, title=node)\n",
    "\n",
    "for node, edges in graph.items():\n",
    "    if node not in nodes_to_exclude:\n",
    "        for edge in edges:\n",
    "            if edge not in nodes_to_exclude:\n",
    "                net.add_edge(node, edge)\n",
    "net.show_buttons(filter_=['physics'])\n",
    "net.save_graph(f\"docs/graphtypes_v{(alt.VEGALITE_VERSION).replace('.','_')}.html\")"
   ]
  },
  {
   "cell_type": "code",
   "execution_count": null,
   "metadata": {},
   "outputs": [],
   "source": [
    "# I had to manualy move the created lib folder into the docs folder."
   ]
  }
 ],
 "metadata": {
  "kernelspec": {
   "display_name": ".venv",
   "language": "python",
   "name": "python3"
  },
  "language_info": {
   "codemirror_mode": {
    "name": "ipython",
    "version": 3
   },
   "file_extension": ".py",
   "mimetype": "text/x-python",
   "name": "python",
   "nbconvert_exporter": "python",
   "pygments_lexer": "ipython3",
   "version": "3.11.6"
  }
 },
 "nbformat": 4,
 "nbformat_minor": 2
}
